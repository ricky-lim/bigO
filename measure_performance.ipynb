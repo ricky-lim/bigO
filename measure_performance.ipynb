{
 "cells": [
  {
   "cell_type": "markdown",
   "metadata": {
    "collapsed": true,
    "pycharm": {
     "name": "#%% md\n"
    }
   },
   "source": [
    "> Premature optimization is the root of all evil - Donald Knuth\n",
    "\n",
    "How to measure the performance objectively?\n",
    "\n",
    "- `timeit` - measure the runtime performance of code snippets\n",
    "- `cProfile` - analyze performance of entire functions."
   ]
  },
  {
   "cell_type": "markdown",
   "source": [
    "# `timeit` module"
   ],
   "metadata": {
    "collapsed": false,
    "pycharm": {
     "name": "#%% md\n"
    }
   }
  },
  {
   "cell_type": "code",
   "execution_count": 11,
   "outputs": [],
   "source": [
    "import random\n",
    "import bisect"
   ],
   "metadata": {
    "collapsed": false,
    "pycharm": {
     "name": "#%%\n"
    }
   }
  },
  {
   "cell_type": "code",
   "source": [
    "%%timeit\n",
    "# With notebook\n",
    "\n",
    "random.randint(1, 100)"
   ],
   "metadata": {
    "collapsed": false,
    "pycharm": {
     "name": "#%%\n"
    }
   },
   "execution_count": 12,
   "outputs": [
    {
     "name": "stdout",
     "output_type": "stream",
     "text": [
      "1.2 µs ± 105 ns per loop (mean ± std. dev. of 7 runs, 1000000 loops each)\n"
     ]
    }
   ]
  },
  {
   "cell_type": "code",
   "execution_count": 13,
   "outputs": [
    {
     "data": {
      "text/plain": "1.266308072999891"
     },
     "execution_count": 13,
     "metadata": {},
     "output_type": "execute_result"
    }
   ],
   "source": [
    "import timeit\n",
    "\n",
    "timeit.timeit('random.randint(1, 100)', 'import random', number=1_000_000)"
   ],
   "metadata": {
    "collapsed": false,
    "pycharm": {
     "name": "#%%\n"
    }
   }
  },
  {
   "cell_type": "markdown",
   "source": [
    "# `cProfile` module\n"
   ],
   "metadata": {
    "collapsed": false,
    "pycharm": {
     "name": "#%% md\n"
    }
   }
  },
  {
   "cell_type": "code",
   "execution_count": 14,
   "outputs": [],
   "source": [
    "import cProfile\n",
    "\n",
    "def add_random_number(n=1000):\n",
    "\ttotal = 0\n",
    "\tfor i in range(n):\n",
    "\t\tr = random.randint(1, 100)\n",
    "\t\ttotal += r\n",
    "\treturn total"
   ],
   "metadata": {
    "collapsed": false,
    "pycharm": {
     "name": "#%%\n"
    }
   }
  },
  {
   "cell_type": "code",
   "execution_count": 15,
   "outputs": [
    {
     "name": "stdout",
     "output_type": "stream",
     "text": [
      " "
     ]
    }
   ],
   "source": [
    "%%prun\n",
    "\n",
    "add_random_number()"
   ],
   "metadata": {
    "collapsed": false,
    "pycharm": {
     "name": "#%%\n"
    }
   }
  },
  {
   "cell_type": "code",
   "execution_count": 16,
   "outputs": [
    {
     "name": "stdout",
     "output_type": "stream",
     "text": [
      "         5284 function calls in 0.004 seconds\n",
      "\n",
      "   Ordered by: standard name\n",
      "\n",
      "   ncalls  tottime  percall  cumtime  percall filename:lineno(function)\n",
      "        1    0.001    0.001    0.003    0.003 <ipython-input-14-f305c7b5d1c9>:3(add_random_number)\n",
      "        1    0.000    0.000    0.003    0.003 <string>:1(<module>)\n",
      "     1000    0.001    0.000    0.001    0.000 random.py:237(_randbelow_with_getrandbits)\n",
      "     1000    0.001    0.000    0.002    0.000 random.py:290(randrange)\n",
      "     1000    0.001    0.000    0.003    0.000 random.py:334(randint)\n",
      "        1    0.000    0.000    0.004    0.004 {built-in method builtins.exec}\n",
      "     1000    0.000    0.000    0.000    0.000 {method 'bit_length' of 'int' objects}\n",
      "        1    0.000    0.000    0.000    0.000 {method 'disable' of '_lsprof.Profiler' objects}\n",
      "     1280    0.000    0.000    0.000    0.000 {method 'getrandbits' of '_random.Random' objects}\n",
      "\n",
      "\n"
     ]
    }
   ],
   "source": [
    "cProfile.run('add_random_number()')"
   ],
   "metadata": {
    "collapsed": false,
    "pycharm": {
     "name": "#%%\n"
    }
   }
  },
  {
   "cell_type": "markdown",
   "source": [
    "`cProfile` is to help determine which parts of your code contribute to\n",
    "the total program runtime.\n",
    "So we could focus our optimization efforts on parts that contributes\n",
    "the largest bottleneck and ignore parts of your code that don't."
   ],
   "metadata": {
    "collapsed": false,
    "pycharm": {
     "name": "#%% md\n"
    }
   }
  },
  {
   "cell_type": "markdown",
   "source": [
    "## Finding a needle in a haystack, is my needle there?"
   ],
   "metadata": {
    "collapsed": false,
    "pycharm": {
     "name": "#%% md\n"
    }
   }
  },
  {
   "cell_type": "code",
   "execution_count": 17,
   "outputs": [],
   "source": [
    "needle = 89_998_999\n",
    "haystack = list(range(100_000_000))"
   ],
   "metadata": {
    "collapsed": false,
    "pycharm": {
     "name": "#%%\n"
    }
   }
  },
  {
   "cell_type": "code",
   "execution_count": 18,
   "outputs": [
    {
     "name": "stdout",
     "output_type": "stream",
     "text": [
      "         4 function calls in 7.888 seconds\n",
      "\n",
      "   Ordered by: standard name\n",
      "\n",
      "   ncalls  tottime  percall  cumtime  percall filename:lineno(function)\n",
      "        1    7.887    7.887    7.887    7.887 <ipython-input-18-759a2c6e9552>:1(scan)\n",
      "        1    0.000    0.000    7.887    7.887 <string>:1(<module>)\n",
      "        1    0.000    0.000    7.888    7.888 {built-in method builtins.exec}\n",
      "        1    0.000    0.000    0.000    0.000 {method 'disable' of '_lsprof.Profiler' objects}\n",
      "\n",
      "\n"
     ]
    }
   ],
   "source": [
    "def scan(needle, haystack):\n",
    "\tfor i in haystack:\n",
    "\t\tif i == needle:\n",
    "\t\t\treturn True\n",
    "\treturn False\n",
    "\n",
    "\n",
    "cProfile.run(\"scan(needle, haystack)\")"
   ],
   "metadata": {
    "collapsed": false,
    "pycharm": {
     "name": "#%%\n"
    }
   }
  },
  {
   "cell_type": "code",
   "execution_count": 19,
   "outputs": [],
   "source": [
    "def binary_search(needle, haystack):\n",
    "\tif not len(haystack):\n",
    "\t\treturn False\n",
    "\tstart_index = 0\n",
    "\tend_index = len(haystack) - 1\n",
    "\n",
    "\twhile start_index <= end_index:\n",
    "\t\tmid_index = (start_index + end_index) // 2\n",
    "\t\tif haystack[mid_index] == needle:\n",
    "\t\t\treturn True\n",
    "\t\telif needle < haystack[mid_index]:\n",
    "\t\t\tend_index = mid_index - 1\n",
    "\t\telif needle > haystack[mid_index]:\n",
    "\t\t\tstart_index = mid_index + 1\n",
    "\n",
    "\treturn False\n",
    "\n",
    "\n",
    "\n",
    "def bisect_search(needle, haystack):\n",
    "\tindex = bisect.bisect_left(haystack, needle)\n",
    "\treturn index < len(haystack) and haystack[index] == needle"
   ],
   "metadata": {
    "collapsed": false,
    "pycharm": {
     "name": "#%%\n"
    }
   }
  },
  {
   "cell_type": "code",
   "execution_count": 20,
   "outputs": [
    {
     "name": "stdout",
     "output_type": "stream",
     "text": [
      "         6 function calls in 0.000 seconds\n",
      "\n",
      "   Ordered by: standard name\n",
      "\n",
      "   ncalls  tottime  percall  cumtime  percall filename:lineno(function)\n",
      "        1    0.000    0.000    0.000    0.000 <ipython-input-19-c3d845412806>:1(binary_search)\n",
      "        1    0.000    0.000    0.000    0.000 <string>:1(<module>)\n",
      "        1    0.000    0.000    0.000    0.000 {built-in method builtins.exec}\n",
      "        2    0.000    0.000    0.000    0.000 {built-in method builtins.len}\n",
      "        1    0.000    0.000    0.000    0.000 {method 'disable' of '_lsprof.Profiler' objects}\n",
      "\n",
      "\n",
      "         6 function calls in 0.000 seconds\n",
      "\n",
      "   Ordered by: standard name\n",
      "\n",
      "   ncalls  tottime  percall  cumtime  percall filename:lineno(function)\n",
      "        1    0.000    0.000    0.000    0.000 <ipython-input-19-c3d845412806>:20(bisect_search)\n",
      "        1    0.000    0.000    0.000    0.000 <string>:1(<module>)\n",
      "        1    0.000    0.000    0.000    0.000 {built-in method _bisect.bisect_left}\n",
      "        1    0.000    0.000    0.000    0.000 {built-in method builtins.exec}\n",
      "        1    0.000    0.000    0.000    0.000 {built-in method builtins.len}\n",
      "        1    0.000    0.000    0.000    0.000 {method 'disable' of '_lsprof.Profiler' objects}\n",
      "\n",
      "\n"
     ]
    }
   ],
   "source": [
    "cProfile.run(\"binary_search(needle, haystack)\")\n",
    "cProfile.run(\"bisect_search(needle, haystack)\")\n"
   ],
   "metadata": {
    "collapsed": false,
    "pycharm": {
     "name": "#%%\n"
    }
   }
  },
  {
   "cell_type": "markdown",
   "source": [
    "References:\n",
    "\n",
    "- https://jakevdp.github.io/PythonDataScienceHandbook/01.07-timing-and-profiling.html\n",
    "\n",
    "\n"
   ],
   "metadata": {
    "collapsed": false,
    "pycharm": {
     "name": "#%% md\n"
    }
   }
  }
 ],
 "metadata": {
  "kernelspec": {
   "display_name": "Python 3",
   "language": "python",
   "name": "python3"
  },
  "language_info": {
   "codemirror_mode": {
    "name": "ipython",
    "version": 2
   },
   "file_extension": ".py",
   "mimetype": "text/x-python",
   "name": "python",
   "nbconvert_exporter": "python",
   "pygments_lexer": "ipython2",
   "version": "2.7.6"
  }
 },
 "nbformat": 4,
 "nbformat_minor": 0
}