{
 "cells": [
  {
   "cell_type": "markdown",
   "metadata": {
    "collapsed": true,
    "pycharm": {
     "name": "#%% md\n"
    }
   },
   "source": [
    "How code slows down as your data grows."
   ]
  },
  {
   "cell_type": "markdown",
   "source": [
    "# The big O of common python function calls\n",
    "\n",
    "## `my_dict = {'key': 'value'}`\n",
    "\n",
    "```\n",
    "len(my_dict)                          # O(1)\n",
    "my_dict[key] and my_dict[key] = value # O(1)\n",
    "key in my_dict                        # O(1)\n",
    "for key in my_dict:                   # O(N)\n",
    "\t...\n",
    "```\n",
    "\n",
    "## `my_list = ['a', 'b', 'c', ...]`\n",
    "```\n",
    "len(my_list)                          # O(1)\n",
    "my_list[i] and my_list[i] = value     # O(1)\n",
    "my_list.append('d')                   # O(1)\n",
    "my_list.pop()                         # O(1)\n",
    "my_list.insert(i, value)              # O(N)\n",
    "my_list.remove(value)                 # O(N)\n",
    "value in my_list                      # O(N)\n",
    "my_list.reverse()                     # O(N)\n",
    "for value in my_list:                 # O(N)\n",
    "    ...\n",
    "my_list.sort()                        # O(N log N)\n",
    "\n",
    "```\n",
    "\n",
    "## `my_set = {'a', 'b', 'c'}`\n",
    "```\n",
    "my_set.add(value)                     # O(1)\n",
    "my_set.remove(value)                  # O(1)\n",
    "value in my_set                       # O(1)\n",
    "foor value in my_set                  # O(N)\n",
    "\n",
    "```"
   ],
   "metadata": {
    "collapsed": false,
    "pycharm": {
     "name": "#%% md\n"
    }
   }
  }
 ],
 "metadata": {
  "kernelspec": {
   "display_name": "Python 3",
   "language": "python",
   "name": "python3"
  },
  "language_info": {
   "codemirror_mode": {
    "name": "ipython",
    "version": 2
   },
   "file_extension": ".py",
   "mimetype": "text/x-python",
   "name": "python",
   "nbconvert_exporter": "python",
   "pygments_lexer": "ipython2",
   "version": "2.7.6"
  }
 },
 "nbformat": 4,
 "nbformat_minor": 0
}